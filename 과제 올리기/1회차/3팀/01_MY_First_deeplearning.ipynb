{
 "cells": [
  {
   "attachments": {},
   "cell_type": "markdown",
   "metadata": {},
   "source": [
    "# 페암 수술 환자의 생존율 예측하기 실습"
   ]
  },
  {
   "cell_type": "code",
   "execution_count": 4,
   "metadata": {},
   "outputs": [
    {
     "name": "stdout",
     "output_type": "stream",
     "text": [
      "Epoch 1/100\n"
     ]
    },
    {
     "name": "stderr",
     "output_type": "stream",
     "text": [
      "2023-01-11 11:28:52.229487: W tensorflow/tsl/platform/profile_utils/cpu_utils.cc:128] Failed to get CPU frequency: 0 Hz\n"
     ]
    },
    {
     "name": "stdout",
     "output_type": "stream",
     "text": [
      "47/47 [==============================] - 0s 580us/step - loss: 11.7674 - accuracy: 0.8511\n",
      "Epoch 2/100\n",
      "47/47 [==============================] - 0s 537us/step - loss: 4.0125 - accuracy: 0.7830\n",
      "Epoch 3/100\n",
      "47/47 [==============================] - 0s 466us/step - loss: 1.0747 - accuracy: 0.7383\n",
      "Epoch 4/100\n",
      "47/47 [==============================] - 0s 476us/step - loss: 0.6134 - accuracy: 0.8149\n",
      "Epoch 5/100\n",
      "47/47 [==============================] - 0s 433us/step - loss: 0.5046 - accuracy: 0.8447\n",
      "Epoch 6/100\n",
      "47/47 [==============================] - 0s 439us/step - loss: 0.4763 - accuracy: 0.8404\n",
      "Epoch 7/100\n",
      "47/47 [==============================] - 0s 459us/step - loss: 0.4751 - accuracy: 0.8447\n",
      "Epoch 8/100\n",
      "47/47 [==============================] - 0s 443us/step - loss: 0.4952 - accuracy: 0.8426\n",
      "Epoch 9/100\n",
      "47/47 [==============================] - 0s 498us/step - loss: 0.4389 - accuracy: 0.8468\n",
      "Epoch 10/100\n",
      "47/47 [==============================] - 0s 482us/step - loss: 0.4572 - accuracy: 0.8447\n",
      "Epoch 11/100\n",
      "47/47 [==============================] - 0s 504us/step - loss: 0.4627 - accuracy: 0.8468\n",
      "Epoch 12/100\n",
      "47/47 [==============================] - 0s 485us/step - loss: 0.4821 - accuracy: 0.8383\n",
      "Epoch 13/100\n",
      "47/47 [==============================] - 0s 492us/step - loss: 0.4632 - accuracy: 0.8362\n",
      "Epoch 14/100\n",
      "47/47 [==============================] - 0s 485us/step - loss: 0.4915 - accuracy: 0.8298\n",
      "Epoch 15/100\n",
      "47/47 [==============================] - 0s 500us/step - loss: 0.4534 - accuracy: 0.8532\n",
      "Epoch 16/100\n",
      "47/47 [==============================] - 0s 455us/step - loss: 0.4474 - accuracy: 0.8426\n",
      "Epoch 17/100\n",
      "47/47 [==============================] - 0s 445us/step - loss: 0.4436 - accuracy: 0.8340\n",
      "Epoch 18/100\n",
      "47/47 [==============================] - 0s 416us/step - loss: 0.4675 - accuracy: 0.8447\n",
      "Epoch 19/100\n",
      "47/47 [==============================] - 0s 446us/step - loss: 0.4520 - accuracy: 0.8383\n",
      "Epoch 20/100\n",
      "47/47 [==============================] - 0s 483us/step - loss: 0.4446 - accuracy: 0.8383\n",
      "Epoch 21/100\n",
      "47/47 [==============================] - 0s 459us/step - loss: 0.4192 - accuracy: 0.8447\n",
      "Epoch 22/100\n",
      "47/47 [==============================] - 0s 466us/step - loss: 0.4393 - accuracy: 0.8468\n",
      "Epoch 23/100\n",
      "47/47 [==============================] - 0s 456us/step - loss: 0.4244 - accuracy: 0.8426\n",
      "Epoch 24/100\n",
      "47/47 [==============================] - 0s 489us/step - loss: 0.4853 - accuracy: 0.8213\n",
      "Epoch 25/100\n",
      "47/47 [==============================] - 0s 514us/step - loss: 0.4565 - accuracy: 0.8404\n",
      "Epoch 26/100\n",
      "47/47 [==============================] - 0s 520us/step - loss: 0.4556 - accuracy: 0.8404\n",
      "Epoch 27/100\n",
      "47/47 [==============================] - 0s 777us/step - loss: 0.4839 - accuracy: 0.8255\n",
      "Epoch 28/100\n",
      "47/47 [==============================] - 0s 641us/step - loss: 0.4291 - accuracy: 0.8426\n",
      "Epoch 29/100\n",
      "47/47 [==============================] - 0s 499us/step - loss: 0.4568 - accuracy: 0.8426\n",
      "Epoch 30/100\n",
      "47/47 [==============================] - 0s 513us/step - loss: 0.4162 - accuracy: 0.8447\n",
      "Epoch 31/100\n",
      "47/47 [==============================] - 0s 499us/step - loss: 0.4595 - accuracy: 0.8383\n",
      "Epoch 32/100\n",
      "47/47 [==============================] - 0s 431us/step - loss: 0.4249 - accuracy: 0.8447\n",
      "Epoch 33/100\n",
      "47/47 [==============================] - 0s 433us/step - loss: 0.4664 - accuracy: 0.8489\n",
      "Epoch 34/100\n",
      "47/47 [==============================] - 0s 470us/step - loss: 0.4103 - accuracy: 0.8426\n",
      "Epoch 35/100\n",
      "47/47 [==============================] - 0s 449us/step - loss: 0.4414 - accuracy: 0.8447\n",
      "Epoch 36/100\n",
      "47/47 [==============================] - 0s 434us/step - loss: 0.4537 - accuracy: 0.8362\n",
      "Epoch 37/100\n",
      "47/47 [==============================] - 0s 447us/step - loss: 0.4857 - accuracy: 0.8404\n",
      "Epoch 38/100\n",
      "47/47 [==============================] - 0s 449us/step - loss: 0.4550 - accuracy: 0.8298\n",
      "Epoch 39/100\n",
      "47/47 [==============================] - 0s 440us/step - loss: 0.4270 - accuracy: 0.8511\n",
      "Epoch 40/100\n",
      "47/47 [==============================] - 0s 464us/step - loss: 0.4131 - accuracy: 0.8532\n",
      "Epoch 41/100\n",
      "47/47 [==============================] - 0s 468us/step - loss: 0.4278 - accuracy: 0.8426\n",
      "Epoch 42/100\n",
      "47/47 [==============================] - 0s 427us/step - loss: 0.5153 - accuracy: 0.8255\n",
      "Epoch 43/100\n",
      "47/47 [==============================] - 0s 416us/step - loss: 0.4311 - accuracy: 0.8468\n",
      "Epoch 44/100\n",
      "47/47 [==============================] - 0s 433us/step - loss: 0.4215 - accuracy: 0.8383\n",
      "Epoch 45/100\n",
      "47/47 [==============================] - 0s 425us/step - loss: 0.4258 - accuracy: 0.8447\n",
      "Epoch 46/100\n",
      "47/47 [==============================] - 0s 446us/step - loss: 0.4170 - accuracy: 0.8468\n",
      "Epoch 47/100\n",
      "47/47 [==============================] - 0s 461us/step - loss: 0.4501 - accuracy: 0.8234\n",
      "Epoch 48/100\n",
      "47/47 [==============================] - 0s 410us/step - loss: 0.4296 - accuracy: 0.8426\n",
      "Epoch 49/100\n",
      "47/47 [==============================] - 0s 447us/step - loss: 0.4166 - accuracy: 0.8447\n",
      "Epoch 50/100\n",
      "47/47 [==============================] - 0s 414us/step - loss: 0.4158 - accuracy: 0.8447\n",
      "Epoch 51/100\n",
      "47/47 [==============================] - 0s 450us/step - loss: 0.4162 - accuracy: 0.8532\n",
      "Epoch 52/100\n",
      "47/47 [==============================] - 0s 446us/step - loss: 0.4112 - accuracy: 0.8511\n",
      "Epoch 53/100\n",
      "47/47 [==============================] - 0s 417us/step - loss: 0.4153 - accuracy: 0.8426\n",
      "Epoch 54/100\n",
      "47/47 [==============================] - 0s 450us/step - loss: 0.4133 - accuracy: 0.8447\n",
      "Epoch 55/100\n",
      "47/47 [==============================] - 0s 400us/step - loss: 0.4255 - accuracy: 0.8426\n",
      "Epoch 56/100\n",
      "47/47 [==============================] - 0s 436us/step - loss: 0.4201 - accuracy: 0.8489\n",
      "Epoch 57/100\n",
      "47/47 [==============================] - 0s 413us/step - loss: 0.4272 - accuracy: 0.8404\n",
      "Epoch 58/100\n",
      "47/47 [==============================] - 0s 435us/step - loss: 0.4433 - accuracy: 0.8468\n",
      "Epoch 59/100\n",
      "47/47 [==============================] - 0s 442us/step - loss: 0.4132 - accuracy: 0.8489\n",
      "Epoch 60/100\n",
      "47/47 [==============================] - 0s 437us/step - loss: 0.4019 - accuracy: 0.8489\n",
      "Epoch 61/100\n",
      "47/47 [==============================] - 0s 462us/step - loss: 0.4137 - accuracy: 0.8511\n",
      "Epoch 62/100\n",
      "47/47 [==============================] - 0s 427us/step - loss: 0.4149 - accuracy: 0.8532\n",
      "Epoch 63/100\n",
      "47/47 [==============================] - 0s 421us/step - loss: 0.4440 - accuracy: 0.8426\n",
      "Epoch 64/100\n",
      "47/47 [==============================] - 0s 459us/step - loss: 0.4619 - accuracy: 0.8383\n",
      "Epoch 65/100\n",
      "47/47 [==============================] - 0s 436us/step - loss: 0.3992 - accuracy: 0.8532\n",
      "Epoch 66/100\n",
      "47/47 [==============================] - 0s 432us/step - loss: 0.4463 - accuracy: 0.8340\n",
      "Epoch 67/100\n",
      "47/47 [==============================] - 0s 460us/step - loss: 0.4117 - accuracy: 0.8447\n",
      "Epoch 68/100\n",
      "47/47 [==============================] - 0s 438us/step - loss: 0.4209 - accuracy: 0.8574\n",
      "Epoch 69/100\n",
      "47/47 [==============================] - 0s 434us/step - loss: 0.4457 - accuracy: 0.8383\n",
      "Epoch 70/100\n",
      "47/47 [==============================] - 0s 437us/step - loss: 0.4331 - accuracy: 0.8404\n",
      "Epoch 71/100\n",
      "47/47 [==============================] - 0s 432us/step - loss: 0.3955 - accuracy: 0.8511\n",
      "Epoch 72/100\n",
      "47/47 [==============================] - 0s 469us/step - loss: 0.4391 - accuracy: 0.8319\n",
      "Epoch 73/100\n",
      "47/47 [==============================] - 0s 464us/step - loss: 0.5052 - accuracy: 0.8426\n",
      "Epoch 74/100\n",
      "47/47 [==============================] - 0s 423us/step - loss: 0.4206 - accuracy: 0.8489\n",
      "Epoch 75/100\n",
      "47/47 [==============================] - 0s 444us/step - loss: 0.4154 - accuracy: 0.8532\n",
      "Epoch 76/100\n",
      "47/47 [==============================] - 0s 445us/step - loss: 0.4450 - accuracy: 0.8426\n",
      "Epoch 77/100\n",
      "47/47 [==============================] - 0s 431us/step - loss: 0.4066 - accuracy: 0.8362\n",
      "Epoch 78/100\n",
      "47/47 [==============================] - 0s 434us/step - loss: 0.4438 - accuracy: 0.8574\n",
      "Epoch 79/100\n",
      "47/47 [==============================] - 0s 426us/step - loss: 0.4205 - accuracy: 0.8404\n",
      "Epoch 80/100\n",
      "47/47 [==============================] - 0s 463us/step - loss: 0.4131 - accuracy: 0.8468\n",
      "Epoch 81/100\n",
      "47/47 [==============================] - 0s 417us/step - loss: 0.4948 - accuracy: 0.8319\n",
      "Epoch 82/100\n",
      "47/47 [==============================] - 0s 435us/step - loss: 0.4745 - accuracy: 0.8574\n",
      "Epoch 83/100\n",
      "47/47 [==============================] - 0s 487us/step - loss: 0.4394 - accuracy: 0.8468\n",
      "Epoch 84/100\n",
      "47/47 [==============================] - 0s 475us/step - loss: 0.4207 - accuracy: 0.8404\n",
      "Epoch 85/100\n",
      "47/47 [==============================] - 0s 542us/step - loss: 0.4248 - accuracy: 0.8447\n",
      "Epoch 86/100\n",
      "47/47 [==============================] - 0s 522us/step - loss: 0.4023 - accuracy: 0.8404\n",
      "Epoch 87/100\n",
      "47/47 [==============================] - 0s 503us/step - loss: 0.4168 - accuracy: 0.8383\n",
      "Epoch 88/100\n",
      "47/47 [==============================] - 0s 511us/step - loss: 0.4055 - accuracy: 0.8489\n",
      "Epoch 89/100\n",
      "47/47 [==============================] - 0s 488us/step - loss: 0.4036 - accuracy: 0.8489\n",
      "Epoch 90/100\n",
      "47/47 [==============================] - 0s 503us/step - loss: 0.4301 - accuracy: 0.8553\n",
      "Epoch 91/100\n",
      "47/47 [==============================] - 0s 452us/step - loss: 0.4823 - accuracy: 0.8319\n",
      "Epoch 92/100\n",
      "47/47 [==============================] - 0s 423us/step - loss: 0.4266 - accuracy: 0.8553\n",
      "Epoch 93/100\n",
      "47/47 [==============================] - 0s 448us/step - loss: 0.4587 - accuracy: 0.8383\n",
      "Epoch 94/100\n",
      "47/47 [==============================] - 0s 443us/step - loss: 0.4305 - accuracy: 0.8447\n",
      "Epoch 95/100\n",
      "47/47 [==============================] - 0s 430us/step - loss: 0.4030 - accuracy: 0.8404\n",
      "Epoch 96/100\n",
      "47/47 [==============================] - 0s 452us/step - loss: 0.4932 - accuracy: 0.8191\n",
      "Epoch 97/100\n",
      "47/47 [==============================] - 0s 434us/step - loss: 0.4715 - accuracy: 0.8234\n",
      "Epoch 98/100\n",
      "47/47 [==============================] - 0s 426us/step - loss: 0.4402 - accuracy: 0.8298\n",
      "Epoch 99/100\n",
      "47/47 [==============================] - 0s 464us/step - loss: 0.4585 - accuracy: 0.8574\n",
      "Epoch 100/100\n",
      "47/47 [==============================] - 0s 448us/step - loss: 0.4230 - accuracy: 0.8447\n"
     ]
    },
    {
     "data": {
      "text/plain": [
       "<keras.callbacks.History at 0x17e991a90>"
      ]
     },
     "execution_count": 4,
     "metadata": {},
     "output_type": "execute_result"
    }
   ],
   "source": [
    "from tensorflow.keras.models import Sequential\n",
    "from tensorflow.keras.layers import Dense\n",
    "\n",
    "import numpy as np\n",
    "import pandas as pd\n",
    "import tensorflow as tf\n",
    "\n",
    "np.random.seed(3)\n",
    "tf.random.set_seed(3)\n",
    "\n",
    "# import data\n",
    "Data_set = np.loadtxt(\"https://raw.githubusercontent.com/yblee1223/2022_Winter_AiStudy/main/dataset/ThoraricSurgery.csv\", delimiter=\",\")\n",
    "\n",
    "# seperate input data & output data\n",
    "X = Data_set[:, 0:17]\n",
    "Y = Data_set[:, 17]\n",
    "\n",
    "# model make\n",
    "model = Sequential()\n",
    "model.add(Dense(30, input_dim=17, activation='relu'))\n",
    "model.add(Dense(1, activation='sigmoid'))\n",
    "\n",
    "# learning\n",
    "model.compile(loss='binary_crossentropy', optimizer='adam', metrics=['accuracy'])\n",
    "model.fit(X, Y, epochs=100, batch_size=10)\n"
   ]
  },
  {
   "attachments": {},
   "cell_type": "markdown",
   "metadata": {},
   "source": [
    "# 선형회귀\n",
    "- mse 최소 제곱 오차 "
   ]
  },
  {
   "cell_type": "code",
   "execution_count": 19,
   "metadata": {},
   "outputs": [
    {
     "name": "stdout",
     "output_type": "stream",
     "text": [
      "가중치: 2.3\n",
      "절편: 79.0\n"
     ]
    }
   ],
   "source": [
    "import numpy as np\n",
    "\n",
    "x = [2, 4, 6, 8]\n",
    "y = [81, 93, 91, 97]\n",
    "\n",
    "class LinearRegression:\n",
    "    def __init__(self, x, y):\n",
    "        self.mx = np.mean(x)\n",
    "        self.my = np.mean(y)\n",
    "        self.x = 0\n",
    "        self.y = 0\n",
    "    \n",
    "    def __call__(self, x, y):\n",
    "        divisor = sum([(i - self.mx)**2 for i in x])\n",
    "        divided = 0\n",
    "        for i in range(len(x)):\n",
    "            divided += (x[i] - self.mx) * (y[i] - self.my)\n",
    "        self.weight = divided / divisor\n",
    "        self.bias = self.my - self.mx * self.weight\n",
    "    def forward(self, x):\n",
    "        return [self.weight * i + self.bias for i in x]\n",
    "\n",
    "model = LinearRegression(x, y)\n",
    "model(x, y)\n",
    "print(\"가중치:\",model.weight)\n",
    "print(\"절편:\",model.bias)"
   ]
  },
  {
   "cell_type": "code",
   "execution_count": 20,
   "metadata": {},
   "outputs": [
    {
     "data": {
      "text/plain": [
       "<function matplotlib.pyplot.show(close=None, block=None)>"
      ]
     },
     "execution_count": 20,
     "metadata": {},
     "output_type": "execute_result"
    },
    {
     "data": {
      "image/png": "[encoded data removed]",
      "text/plain": [
       "<Figure size 640x480 with 1 Axes>"
      ]
     },
     "metadata": {},
     "output_type": "display_data"
    }
   ],
   "source": [
    "import matplotlib.pyplot as plt\n",
    "plt.scatter(x, y)\n",
    "plt.plot(x, model.forward(x))\n",
    "plt.show"
   ]
  },
  {
   "cell_type": "code",
   "execution_count": 12,
   "metadata": {},
   "outputs": [
    {
     "name": "stdout",
     "output_type": "stream",
     "text": [
      "공부한 시간:2,실제 점수:81, 예측 점수:82\n",
      "공부한 시간:4,실제 점수:93, 예측 점수:88\n",
      "공부한 시간:6,실제 점수:91, 예측 점수:94\n",
      "공부한 시간:8,실제 점수:97, 예측 점수:100\n",
      "mse 최종값: 11.0\n"
     ]
    }
   ],
   "source": [
    "import numpy as np\n",
    "\n",
    "fake_a_b = [3, 76]\n",
    "\n",
    "data = [[2, 81], [4, 93], [6, 91], [8, 97]]\n",
    "x = [i[0] for i in data]\n",
    "y = [i[1] for i in data]\n",
    "\n",
    "def predict(x):\n",
    "    return fake_a_b[0] * x + fake_a_b[1]\n",
    "\n",
    "def mse(y, y_hat):\n",
    "    return ((y - y_hat) ** 2).mean()\n",
    "\n",
    "def mse_val(y, predict_result):\n",
    "    return mse(np.array(y), np.array(predict_result))\n",
    "\n",
    "predict_result = []\n",
    "\n",
    "for i in range(len(x)):\n",
    "    predict_result.append(predict(x[i]))\n",
    "    print(\"공부한 시간:{}, 실제 점수:{}, 예측 점수:{}\".format(x[i], y[i], predict(x[i])))\n",
    "print(\"mse 최종값:\", str(mse_val(predict_result, y)))"
   ]
  }
 ],
 "metadata": {
  "kernelspec": {
   "display_name": "modeep",
   "language": "python",
   "name": "python3"
  },
  "language_info": {
   "codemirror_mode": {
    "name": "ipython",
    "version": 3
   },
   "file_extension": ".py",
   "mimetype": "text/x-python",
   "name": "python",
   "nbconvert_exporter": "python",
   "pygments_lexer": "ipython3",
   "version": "3.8.15"
  },
  "orig_nbformat": 4,
  "vscode": {
   "interpreter": {
    "hash": "da067a91cdf9edd151c6e3033b854d52a08f8a4d9e295226b95ed8b0e572ef4c"
   }
  }
 },
 "nbformat": 4,
 "nbformat_minor": 2
}
